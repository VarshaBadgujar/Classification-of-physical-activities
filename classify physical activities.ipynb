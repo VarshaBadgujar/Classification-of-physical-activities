{
 "cells": [
  {
   "cell_type": "code",
   "execution_count": 1,
   "metadata": {},
   "outputs": [],
   "source": []
  },
  {
   "cell_type": "markdown",
   "metadata": {},
   "source": [
   
   ]
  },
  {
   "cell_type": "code",
   "execution_count": 1,
   "metadata": {},
   "outputs": [],
   "source": [
    "# Importing Required Libraries\n",
    "\n",
    "import matplotlib.pyplot as plt\n",
    "import numpy as np \n",
    "import pandas as pd\n",
    "import random\n",
    "import os\n",
    "import matplotlib.cm as cm\n",
    "%matplotlib inline\n",
    "import datetime\n",
    "\n",
    "from sklearn.svm import SVC\n",
    "from sklearn.naive_bayes import GaussianNB\n",
    "from sklearn.neighbors import KNeighborsClassifier\n",
    "from sklearn.ensemble import RandomForestClassifier \n",
    "\n",
    "from sklearn .model_selection import train_test_split\n",
    "from sklearn.metrics import accuracy_score\n",
    "    "
   ]
  },
  {
   "cell_type": "markdown",
   "metadata": {},
   "source": [
    "# Exploratory Data Analysis"
   ]
  },
  {
   "cell_type": "code",
   "execution_count": 2,
   "metadata": {},
   "outputs": [],
   "source": [
    "# Load the data into the data frame.\n",
    "\n",
    "train_data=pd.read_csv(r'train_time_series.csv')\n",
    "train_label=pd.read_csv(r'train_labels.csv')"
   ]
  },
  {
   "cell_type": "code",
   "execution_count": 3,
   "metadata": {},
   "outputs": [
    {
     "data": {
      "text/html": [
       "<div>\n",
       "<style scoped>\n",
       "    .dataframe tbody tr th:only-of-type {\n",
       "        vertical-align: middle;\n",
       "    }\n",
       "\n",
       "    .dataframe tbody tr th {\n",
       "        vertical-align: top;\n",
       "    }\n",
       "\n",
       "    .dataframe thead th {\n",
       "        text-align: right;\n",
       "    }\n",
       "</style>\n",
       "<table border=\"1\" class=\"dataframe\">\n",
       "  <thead>\n",
       "    <tr style=\"text-align: right;\">\n",
       "      <th></th>\n",
       "      <th>Unnamed: 0</th>\n",
       "      <th>timestamp</th>\n",
       "      <th>UTC time</th>\n",
       "      <th>accuracy</th>\n",
       "      <th>x</th>\n",
       "      <th>y</th>\n",
       "      <th>z</th>\n",
       "    </tr>\n",
       "  </thead>\n",
       "  <tbody>\n",
       "    <tr>\n",
       "      <th>0</th>\n",
       "      <td>20586</td>\n",
       "      <td>1565109930787</td>\n",
       "      <td>2019-08-06T16:45:30.787</td>\n",
       "      <td>unknown</td>\n",
       "      <td>-0.006485</td>\n",
       "      <td>-0.934860</td>\n",
       "      <td>-0.069046</td>\n",
       "    </tr>\n",
       "    <tr>\n",
       "      <th>1</th>\n",
       "      <td>20587</td>\n",
       "      <td>1565109930887</td>\n",
       "      <td>2019-08-06T16:45:30.887</td>\n",
       "      <td>unknown</td>\n",
       "      <td>-0.066467</td>\n",
       "      <td>-1.015442</td>\n",
       "      <td>0.089554</td>\n",
       "    </tr>\n",
       "    <tr>\n",
       "      <th>2</th>\n",
       "      <td>20588</td>\n",
       "      <td>1565109930987</td>\n",
       "      <td>2019-08-06T16:45:30.987</td>\n",
       "      <td>unknown</td>\n",
       "      <td>-0.043488</td>\n",
       "      <td>-1.021255</td>\n",
       "      <td>0.178467</td>\n",
       "    </tr>\n",
       "    <tr>\n",
       "      <th>3</th>\n",
       "      <td>20589</td>\n",
       "      <td>1565109931087</td>\n",
       "      <td>2019-08-06T16:45:31.087</td>\n",
       "      <td>unknown</td>\n",
       "      <td>-0.053802</td>\n",
       "      <td>-0.987701</td>\n",
       "      <td>0.068985</td>\n",
       "    </tr>\n",
       "    <tr>\n",
       "      <th>4</th>\n",
       "      <td>20590</td>\n",
       "      <td>1565109931188</td>\n",
       "      <td>2019-08-06T16:45:31.188</td>\n",
       "      <td>unknown</td>\n",
       "      <td>-0.054031</td>\n",
       "      <td>-1.003616</td>\n",
       "      <td>0.126450</td>\n",
       "    </tr>\n",
       "  </tbody>\n",
       "</table>\n",
       "</div>"
      ],
      "text/plain": [
       "   Unnamed: 0      timestamp                 UTC time accuracy         x  \\\n",
       "0       20586  1565109930787  2019-08-06T16:45:30.787  unknown -0.006485   \n",
       "1       20587  1565109930887  2019-08-06T16:45:30.887  unknown -0.066467   \n",
       "2       20588  1565109930987  2019-08-06T16:45:30.987  unknown -0.043488   \n",
       "3       20589  1565109931087  2019-08-06T16:45:31.087  unknown -0.053802   \n",
       "4       20590  1565109931188  2019-08-06T16:45:31.188  unknown -0.054031   \n",
       "\n",
       "          y         z  \n",
       "0 -0.934860 -0.069046  \n",
       "1 -1.015442  0.089554  \n",
       "2 -1.021255  0.178467  \n",
       "3 -0.987701  0.068985  \n",
       "4 -1.003616  0.126450  "
      ]
     },
     "execution_count": 3,
     "metadata": {},
     "output_type": "execute_result"
    }
   ],
   "source": [
    "# top 5 rows of train_time_series\n",
    "train_data.head()"
   ]
  },
  {
   "cell_type": "code",
   "execution_count": 4,
   "metadata": {},
   "outputs": [
    {
     "data": {
      "text/html": [
       "<div>\n",
       "<style scoped>\n",
       "    .dataframe tbody tr th:only-of-type {\n",
       "        vertical-align: middle;\n",
       "    }\n",
       "\n",
       "    .dataframe tbody tr th {\n",
       "        vertical-align: top;\n",
       "    }\n",
       "\n",
       "    .dataframe thead th {\n",
       "        text-align: right;\n",
       "    }\n",
       "</style>\n",
       "<table border=\"1\" class=\"dataframe\">\n",
       "  <thead>\n",
       "    <tr style=\"text-align: right;\">\n",
       "      <th></th>\n",
       "      <th>Unnamed: 0</th>\n",
       "      <th>timestamp</th>\n",
       "      <th>UTC time</th>\n",
       "      <th>label</th>\n",
       "    </tr>\n",
       "  </thead>\n",
       "  <tbody>\n",
       "    <tr>\n",
       "      <th>0</th>\n",
       "      <td>20589</td>\n",
       "      <td>1565109931087</td>\n",
       "      <td>2019-08-06T16:45:31.087</td>\n",
       "      <td>1</td>\n",
       "    </tr>\n",
       "    <tr>\n",
       "      <th>1</th>\n",
       "      <td>20599</td>\n",
       "      <td>1565109932090</td>\n",
       "      <td>2019-08-06T16:45:32.090</td>\n",
       "      <td>1</td>\n",
       "    </tr>\n",
       "    <tr>\n",
       "      <th>2</th>\n",
       "      <td>20609</td>\n",
       "      <td>1565109933092</td>\n",
       "      <td>2019-08-06T16:45:33.092</td>\n",
       "      <td>1</td>\n",
       "    </tr>\n",
       "    <tr>\n",
       "      <th>3</th>\n",
       "      <td>20619</td>\n",
       "      <td>1565109934094</td>\n",
       "      <td>2019-08-06T16:45:34.094</td>\n",
       "      <td>1</td>\n",
       "    </tr>\n",
       "    <tr>\n",
       "      <th>4</th>\n",
       "      <td>20629</td>\n",
       "      <td>1565109935097</td>\n",
       "      <td>2019-08-06T16:45:35.097</td>\n",
       "      <td>1</td>\n",
       "    </tr>\n",
       "  </tbody>\n",
       "</table>\n",
       "</div>"
      ],
      "text/plain": [
       "   Unnamed: 0      timestamp                 UTC time  label\n",
       "0       20589  1565109931087  2019-08-06T16:45:31.087      1\n",
       "1       20599  1565109932090  2019-08-06T16:45:32.090      1\n",
       "2       20609  1565109933092  2019-08-06T16:45:33.092      1\n",
       "3       20619  1565109934094  2019-08-06T16:45:34.094      1\n",
       "4       20629  1565109935097  2019-08-06T16:45:35.097      1"
      ]
     },
     "execution_count": 4,
     "metadata": {},
     "output_type": "execute_result"
    }
   ],
   "source": [
    "# top 5 rows of train labels\n",
    "train_label.head()"
   ]
  },
  {
   "cell_type": "code",
   "execution_count": 5,
   "metadata": {},
   "outputs": [],
   "source": [
    "# join two datasets based on common index level column using timestamp\n",
    "\n",
    "training_data_label = pd.merge(train_data[['timestamp','x','y','z']],train_label,how='inner',on='timestamp')"
   ]
  },
  {
   "cell_type": "code",
   "execution_count": 6,
   "metadata": {
    "scrolled": false
   },
   "outputs": [
    {
     "name": "stdout",
     "output_type": "stream",
     "text": [
      "Index(['timestamp', 'x', 'y', 'z', 'Unnamed: 0', 'UTC time', 'label'], dtype='object')\n"
     ]
    }
   ],
   "source": [
    "# list of columns  \n",
    "print(training_data_label.columns)"
   ]
  },
  {
   "cell_type": "code",
   "execution_count": 7,
   "metadata": {},
   "outputs": [],
   "source": [
    "# Rename column name \n",
    "\n",
    "training_data_label.columns=['timestamp', 'x', 'y', 'z', 'Key', 'date_time', 'label']"
   ]
  },
  {
   "cell_type": "code",
   "execution_count": 8,
   "metadata": {},
   "outputs": [
    {
     "data": {
      "text/html": [
       "<div>\n",
       "<style scoped>\n",
       "    .dataframe tbody tr th:only-of-type {\n",
       "        vertical-align: middle;\n",
       "    }\n",
       "\n",
       "    .dataframe tbody tr th {\n",
       "        vertical-align: top;\n",
       "    }\n",
       "\n",
       "    .dataframe thead th {\n",
       "        text-align: right;\n",
       "    }\n",
       "</style>\n",
       "<table border=\"1\" class=\"dataframe\">\n",
       "  <thead>\n",
       "    <tr style=\"text-align: right;\">\n",
       "      <th></th>\n",
       "      <th>timestamp</th>\n",
       "      <th>x</th>\n",
       "      <th>y</th>\n",
       "      <th>z</th>\n",
       "      <th>Key</th>\n",
       "      <th>date_time</th>\n",
       "      <th>label</th>\n",
       "    </tr>\n",
       "  </thead>\n",
       "  <tbody>\n",
       "    <tr>\n",
       "      <th>0</th>\n",
       "      <td>1565109931087</td>\n",
       "      <td>-0.053802</td>\n",
       "      <td>-0.987701</td>\n",
       "      <td>0.068985</td>\n",
       "      <td>20589</td>\n",
       "      <td>2019-08-06T16:45:31.087</td>\n",
       "      <td>1</td>\n",
       "    </tr>\n",
       "    <tr>\n",
       "      <th>1</th>\n",
       "      <td>1565109932090</td>\n",
       "      <td>0.013718</td>\n",
       "      <td>-0.852371</td>\n",
       "      <td>-0.000870</td>\n",
       "      <td>20599</td>\n",
       "      <td>2019-08-06T16:45:32.090</td>\n",
       "      <td>1</td>\n",
       "    </tr>\n",
       "    <tr>\n",
       "      <th>2</th>\n",
       "      <td>1565109933092</td>\n",
       "      <td>0.145584</td>\n",
       "      <td>-1.007843</td>\n",
       "      <td>-0.036819</td>\n",
       "      <td>20609</td>\n",
       "      <td>2019-08-06T16:45:33.092</td>\n",
       "      <td>1</td>\n",
       "    </tr>\n",
       "    <tr>\n",
       "      <th>3</th>\n",
       "      <td>1565109934094</td>\n",
       "      <td>-0.099380</td>\n",
       "      <td>-1.209686</td>\n",
       "      <td>0.304489</td>\n",
       "      <td>20619</td>\n",
       "      <td>2019-08-06T16:45:34.094</td>\n",
       "      <td>1</td>\n",
       "    </tr>\n",
       "    <tr>\n",
       "      <th>4</th>\n",
       "      <td>1565109935097</td>\n",
       "      <td>0.082794</td>\n",
       "      <td>-1.001434</td>\n",
       "      <td>-0.025375</td>\n",
       "      <td>20629</td>\n",
       "      <td>2019-08-06T16:45:35.097</td>\n",
       "      <td>1</td>\n",
       "    </tr>\n",
       "  </tbody>\n",
       "</table>\n",
       "</div>"
      ],
      "text/plain": [
       "       timestamp         x         y         z    Key  \\\n",
       "0  1565109931087 -0.053802 -0.987701  0.068985  20589   \n",
       "1  1565109932090  0.013718 -0.852371 -0.000870  20599   \n",
       "2  1565109933092  0.145584 -1.007843 -0.036819  20609   \n",
       "3  1565109934094 -0.099380 -1.209686  0.304489  20619   \n",
       "4  1565109935097  0.082794 -1.001434 -0.025375  20629   \n",
       "\n",
       "                 date_time  label  \n",
       "0  2019-08-06T16:45:31.087      1  \n",
       "1  2019-08-06T16:45:32.090      1  \n",
       "2  2019-08-06T16:45:33.092      1  \n",
       "3  2019-08-06T16:45:34.094      1  \n",
       "4  2019-08-06T16:45:35.097      1  "
      ]
     },
     "execution_count": 8,
     "metadata": {},
     "output_type": "execute_result"
    }
   ],
   "source": [
    "# top 5 rows of joined dataset\n",
    "training_data_label.head()"
   ]
  },
  {
   "cell_type": "code",
   "execution_count": 9,
   "metadata": {},
   "outputs": [
    {
     "data": {
      "text/html": [
       "<div>\n",
       "<style scoped>\n",
       "    .dataframe tbody tr th:only-of-type {\n",
       "        vertical-align: middle;\n",
       "    }\n",
       "\n",
       "    .dataframe tbody tr th {\n",
       "        vertical-align: top;\n",
       "    }\n",
       "\n",
       "    .dataframe thead th {\n",
       "        text-align: right;\n",
       "    }\n",
       "</style>\n",
       "<table border=\"1\" class=\"dataframe\">\n",
       "  <thead>\n",
       "    <tr style=\"text-align: right;\">\n",
       "      <th></th>\n",
       "      <th>timestamp</th>\n",
       "      <th>x</th>\n",
       "      <th>y</th>\n",
       "      <th>z</th>\n",
       "      <th>Key</th>\n",
       "      <th>date_time</th>\n",
       "      <th>label</th>\n",
       "    </tr>\n",
       "  </thead>\n",
       "  <tbody>\n",
       "    <tr>\n",
       "      <th>370</th>\n",
       "      <td>1565110302030</td>\n",
       "      <td>-0.641953</td>\n",
       "      <td>-1.469177</td>\n",
       "      <td>0.301041</td>\n",
       "      <td>24289</td>\n",
       "      <td>2019-08-06T16:51:42.030</td>\n",
       "      <td>4</td>\n",
       "    </tr>\n",
       "    <tr>\n",
       "      <th>371</th>\n",
       "      <td>1565110303032</td>\n",
       "      <td>-0.171616</td>\n",
       "      <td>-0.366074</td>\n",
       "      <td>-0.059082</td>\n",
       "      <td>24299</td>\n",
       "      <td>2019-08-06T16:51:43.032</td>\n",
       "      <td>4</td>\n",
       "    </tr>\n",
       "    <tr>\n",
       "      <th>372</th>\n",
       "      <td>1565110304034</td>\n",
       "      <td>0.401810</td>\n",
       "      <td>-1.077698</td>\n",
       "      <td>0.258911</td>\n",
       "      <td>24309</td>\n",
       "      <td>2019-08-06T16:51:44.034</td>\n",
       "      <td>4</td>\n",
       "    </tr>\n",
       "    <tr>\n",
       "      <th>373</th>\n",
       "      <td>1565110305037</td>\n",
       "      <td>0.330338</td>\n",
       "      <td>-1.470062</td>\n",
       "      <td>0.303894</td>\n",
       "      <td>24319</td>\n",
       "      <td>2019-08-06T16:51:45.037</td>\n",
       "      <td>4</td>\n",
       "    </tr>\n",
       "    <tr>\n",
       "      <th>374</th>\n",
       "      <td>1565110306039</td>\n",
       "      <td>0.689346</td>\n",
       "      <td>-0.991043</td>\n",
       "      <td>0.034973</td>\n",
       "      <td>24329</td>\n",
       "      <td>2019-08-06T16:51:46.039</td>\n",
       "      <td>4</td>\n",
       "    </tr>\n",
       "  </tbody>\n",
       "</table>\n",
       "</div>"
      ],
      "text/plain": [
       "         timestamp         x         y         z    Key  \\\n",
       "370  1565110302030 -0.641953 -1.469177  0.301041  24289   \n",
       "371  1565110303032 -0.171616 -0.366074 -0.059082  24299   \n",
       "372  1565110304034  0.401810 -1.077698  0.258911  24309   \n",
       "373  1565110305037  0.330338 -1.470062  0.303894  24319   \n",
       "374  1565110306039  0.689346 -0.991043  0.034973  24329   \n",
       "\n",
       "                   date_time  label  \n",
       "370  2019-08-06T16:51:42.030      4  \n",
       "371  2019-08-06T16:51:43.032      4  \n",
       "372  2019-08-06T16:51:44.034      4  \n",
       "373  2019-08-06T16:51:45.037      4  \n",
       "374  2019-08-06T16:51:46.039      4  "
      ]
     },
     "execution_count": 9,
     "metadata": {},
     "output_type": "execute_result"
    }
   ],
   "source": [
    "# last 5 rows of joined dataset\n",
    "training_data_label.tail()"
   ]
  },
  {
   "cell_type": "code",
   "execution_count": 10,
   "metadata": {},
   "outputs": [
    {
     "name": "stdout",
     "output_type": "stream",
     "text": [
      "<class 'pandas.core.frame.DataFrame'>\n",
      "Int64Index: 375 entries, 0 to 374\n",
      "Data columns (total 7 columns):\n",
      " #   Column     Non-Null Count  Dtype  \n",
      "---  ------     --------------  -----  \n",
      " 0   timestamp  375 non-null    int64  \n",
      " 1   x          375 non-null    float64\n",
      " 2   y          375 non-null    float64\n",
      " 3   z          375 non-null    float64\n",
      " 4   Key        375 non-null    int64  \n",
      " 5   date_time  375 non-null    object \n",
      " 6   label      375 non-null    int64  \n",
      "dtypes: float64(3), int64(3), object(1)\n",
      "memory usage: 23.4+ KB\n"
     ]
    }
   ],
   "source": [
    "# Check the types of data\n",
    "\n",
    "training_data_label.info()"
   ]
  },
  {
   "cell_type": "code",
   "execution_count": 11,
   "metadata": {},
   "outputs": [
    {
     "name": "stdout",
     "output_type": "stream",
     "text": [
      "number of duplicate rows:  (0, 7)\n"
     ]
    }
   ],
   "source": [
    "# Rows containing duplicate data\n",
    "\n",
    "dupli_rows_df = training_data_label[training_data_label.duplicated()]\n",
    "print(\"number of duplicate rows: \", dupli_rows_df.shape)"
   ]
  },
  {
   "cell_type": "code",
   "execution_count": 12,
   "metadata": {},
   "outputs": [
    {
     "data": {
      "text/plain": [
       "timestamp    0\n",
       "x            0\n",
       "y            0\n",
       "z            0\n",
       "Key          0\n",
       "date_time    0\n",
       "label        0\n",
       "dtype: int64"
      ]
     },
     "execution_count": 12,
     "metadata": {},
     "output_type": "execute_result"
    }
   ],
   "source": [
    "# how many nulls in each column\n",
    "training_data_label.isna().sum()"
   ]
  },
  {
   "cell_type": "code",
   "execution_count": 13,
   "metadata": {},
   "outputs": [
    {
     "data": {
      "text/plain": [
       "(375, 7)"
      ]
     },
     "execution_count": 13,
     "metadata": {},
     "output_type": "execute_result"
    }
   ],
   "source": [
    "# no.of rows and columns in  dataset\n",
    "training_data_label.shape"
   ]
  },
  {
   "cell_type": "code",
   "execution_count": 14,
   "metadata": {},
   "outputs": [
    {
     "data": {
      "text/plain": [
       "array([1, 2, 4, 3], dtype=int64)"
      ]
     },
     "execution_count": 14,
     "metadata": {},
     "output_type": "execute_result"
    }
   ],
   "source": [
    "# categorical data= qualitative \n",
    "# category of label\n",
    "\n",
    "training_data_label[\"label\"].unique()"
   ]
  },
  {
   "cell_type": "code",
   "execution_count": 15,
   "metadata": {},
   "outputs": [
    {
     "name": "stdout",
     "output_type": "stream",
     "text": [
      "2    213\n",
      "3     88\n",
      "4     47\n",
      "1     27\n",
      "Name: label, dtype: int64\n"
     ]
    }
   ],
   "source": [
    "# total no.of values/rows for each label\n",
    "\n",
    "count_of_each_activity = training_data_label[\"label\"].value_counts()\n",
    "print(count_of_each_activity)\n"
   ]
  },
  {
   "cell_type": "code",
   "execution_count": 16,
   "metadata": {},
   "outputs": [
    {
     "data": {
      "image/png": "[encoded data removed]",
      "text/plain": [
       "<Figure size 720x288 with 1 Axes>"
      ]
     },
     "metadata": {
      "needs_background": "light"
     },
     "output_type": "display_data"
    }
   ],
   "source": [
    "colors = cm.rainbow(np.linspace(0, 1, 4))\n",
    "plt.figure(figsize=(10,4))\n",
    "plt.bar(count_of_each_activity.index,count_of_each_activity,width=0.3,color=colors)\n",
    "plt.xticks(rotation=45,fontsize=12)\n",
    "plt.yticks(rotation=45,fontsize=12)\n",
    "plt.show()"
   ]
  },
  {
   "cell_type": "code",
   "execution_count": 17,
   "metadata": {},
   "outputs": [],
   "source": [
    "# date time converted to date and time \n",
    "training_data_label[\"Date_time\"]=pd.to_datetime(training_data_label[\"date_time\"])"
   ]
  },
  {
   "cell_type": "code",
   "execution_count": 18,
   "metadata": {},
   "outputs": [
    {
     "data": {
      "text/plain": [
       "0     2019-08-06 16:45:31.087\n",
       "1     2019-08-06 16:45:32.090\n",
       "2     2019-08-06 16:45:33.092\n",
       "3     2019-08-06 16:45:34.094\n",
       "4     2019-08-06 16:45:35.097\n",
       "                ...          \n",
       "370   2019-08-06 16:51:42.030\n",
       "371   2019-08-06 16:51:43.032\n",
       "372   2019-08-06 16:51:44.034\n",
       "373   2019-08-06 16:51:45.037\n",
       "374   2019-08-06 16:51:46.039\n",
       "Name: Date_time, Length: 375, dtype: datetime64[ns]"
      ]
     },
     "execution_count": 18,
     "metadata": {},
     "output_type": "execute_result"
    }
   ],
   "source": [
    "training_data_label[\"Date_time\"]"
   ]
  },
  {
   "cell_type": "code",
   "execution_count": 19,
   "metadata": {},
   "outputs": [
    {
     "data": {
      "text/html": [
       "<div>\n",
       "<style scoped>\n",
       "    .dataframe tbody tr th:only-of-type {\n",
       "        vertical-align: middle;\n",
       "    }\n",
       "\n",
       "    .dataframe tbody tr th {\n",
       "        vertical-align: top;\n",
       "    }\n",
       "\n",
       "    .dataframe thead th {\n",
       "        text-align: right;\n",
       "    }\n",
       "</style>\n",
       "<table border=\"1\" class=\"dataframe\">\n",
       "  <thead>\n",
       "    <tr style=\"text-align: right;\">\n",
       "      <th></th>\n",
       "      <th>timestamp</th>\n",
       "      <th>x</th>\n",
       "      <th>y</th>\n",
       "      <th>z</th>\n",
       "      <th>Key</th>\n",
       "      <th>label</th>\n",
       "    </tr>\n",
       "  </thead>\n",
       "  <tbody>\n",
       "    <tr>\n",
       "      <th>count</th>\n",
       "      <td>3.750000e+02</td>\n",
       "      <td>375.000000</td>\n",
       "      <td>375.000000</td>\n",
       "      <td>375.000000</td>\n",
       "      <td>375.000000</td>\n",
       "      <td>375.000000</td>\n",
       "    </tr>\n",
       "    <tr>\n",
       "      <th>mean</th>\n",
       "      <td>1.565110e+12</td>\n",
       "      <td>0.214254</td>\n",
       "      <td>-1.009747</td>\n",
       "      <td>0.092230</td>\n",
       "      <td>22459.000000</td>\n",
       "      <td>2.413333</td>\n",
       "    </tr>\n",
       "    <tr>\n",
       "      <th>std</th>\n",
       "      <td>1.086802e+05</td>\n",
       "      <td>0.391877</td>\n",
       "      <td>0.457594</td>\n",
       "      <td>0.352037</td>\n",
       "      <td>1083.974169</td>\n",
       "      <td>0.799287</td>\n",
       "    </tr>\n",
       "    <tr>\n",
       "      <th>min</th>\n",
       "      <td>1.565110e+12</td>\n",
       "      <td>-0.863419</td>\n",
       "      <td>-2.919434</td>\n",
       "      <td>-1.248840</td>\n",
       "      <td>20589.000000</td>\n",
       "      <td>1.000000</td>\n",
       "    </tr>\n",
       "    <tr>\n",
       "      <th>25%</th>\n",
       "      <td>1.565110e+12</td>\n",
       "      <td>0.014862</td>\n",
       "      <td>-1.152794</td>\n",
       "      <td>-0.061554</td>\n",
       "      <td>21524.000000</td>\n",
       "      <td>2.000000</td>\n",
       "    </tr>\n",
       "    <tr>\n",
       "      <th>50%</th>\n",
       "      <td>1.565110e+12</td>\n",
       "      <td>0.203979</td>\n",
       "      <td>-0.954330</td>\n",
       "      <td>0.058731</td>\n",
       "      <td>22459.000000</td>\n",
       "      <td>2.000000</td>\n",
       "    </tr>\n",
       "    <tr>\n",
       "      <th>75%</th>\n",
       "      <td>1.565110e+12</td>\n",
       "      <td>0.428375</td>\n",
       "      <td>-0.769676</td>\n",
       "      <td>0.216187</td>\n",
       "      <td>23394.000000</td>\n",
       "      <td>3.000000</td>\n",
       "    </tr>\n",
       "    <tr>\n",
       "      <th>max</th>\n",
       "      <td>1.565110e+12</td>\n",
       "      <td>1.785187</td>\n",
       "      <td>0.321747</td>\n",
       "      <td>1.741806</td>\n",
       "      <td>24329.000000</td>\n",
       "      <td>4.000000</td>\n",
       "    </tr>\n",
       "  </tbody>\n",
       "</table>\n",
       "</div>"
      ],
      "text/plain": [
       "          timestamp           x           y           z           Key  \\\n",
       "count  3.750000e+02  375.000000  375.000000  375.000000    375.000000   \n",
       "mean   1.565110e+12    0.214254   -1.009747    0.092230  22459.000000   \n",
       "std    1.086802e+05    0.391877    0.457594    0.352037   1083.974169   \n",
       "min    1.565110e+12   -0.863419   -2.919434   -1.248840  20589.000000   \n",
       "25%    1.565110e+12    0.014862   -1.152794   -0.061554  21524.000000   \n",
       "50%    1.565110e+12    0.203979   -0.954330    0.058731  22459.000000   \n",
       "75%    1.565110e+12    0.428375   -0.769676    0.216187  23394.000000   \n",
       "max    1.565110e+12    1.785187    0.321747    1.741806  24329.000000   \n",
       "\n",
       "            label  \n",
       "count  375.000000  \n",
       "mean     2.413333  \n",
       "std      0.799287  \n",
       "min      1.000000  \n",
       "25%      2.000000  \n",
       "50%      2.000000  \n",
       "75%      3.000000  \n",
       "max      4.000000  "
      ]
     },
     "execution_count": 19,
     "metadata": {},
     "output_type": "execute_result"
    }
   ],
   "source": [
    "# Description of each numeric column\n",
    "training_data_label.describe()"
   ]
  },
  {
   "cell_type": "markdown",
   "metadata": {},
   "source": [
    "# Training the model"
   ]
  },
  {
   "cell_type": "code",
   "execution_count": 20,
   "metadata": {},
   "outputs": [],
   "source": [
    "classification_target = 'label'\n",
    "all_covariates = ['x','y','z']"
   ]
  },
  {
   "cell_type": "code",
   "execution_count": 28,
   "metadata": {},
   "outputs": [],
   "source": [
    "# Get X as covariates and y as label for training data\n",
    "X = training_data_label[all_covariates]\n",
    "target = training_data_label[\"label\"]"
   ]
  },
  {
   "cell_type": "code",
   "execution_count": 27,
   "metadata": {},
   "outputs": [
    {
     "data": {
      "text/html": [
       "<div>\n",
       "<style scoped>\n",
       "    .dataframe tbody tr th:only-of-type {\n",
       "        vertical-align: middle;\n",
       "    }\n",
       "\n",
       "    .dataframe tbody tr th {\n",
       "        vertical-align: top;\n",
       "    }\n",
       "\n",
       "    .dataframe thead th {\n",
       "        text-align: right;\n",
       "    }\n",
       "</style>\n",
       "<table border=\"1\" class=\"dataframe\">\n",
       "  <thead>\n",
       "    <tr style=\"text-align: right;\">\n",
       "      <th></th>\n",
       "      <th>timestamp</th>\n",
       "      <th>x</th>\n",
       "      <th>y</th>\n",
       "      <th>z</th>\n",
       "      <th>Key</th>\n",
       "      <th>date_time</th>\n",
       "      <th>label</th>\n",
       "      <th>Date_time</th>\n",
       "    </tr>\n",
       "  </thead>\n",
       "  <tbody>\n",
       "    <tr>\n",
       "      <th>0</th>\n",
       "      <td>1565109931087</td>\n",
       "      <td>-0.053802</td>\n",
       "      <td>-0.987701</td>\n",
       "      <td>0.068985</td>\n",
       "      <td>20589</td>\n",
       "      <td>2019-08-06T16:45:31.087</td>\n",
       "      <td>1</td>\n",
       "      <td>2019-08-06 16:45:31.087</td>\n",
       "    </tr>\n",
       "    <tr>\n",
       "      <th>1</th>\n",
       "      <td>1565109932090</td>\n",
       "      <td>0.013718</td>\n",
       "      <td>-0.852371</td>\n",
       "      <td>-0.000870</td>\n",
       "      <td>20599</td>\n",
       "      <td>2019-08-06T16:45:32.090</td>\n",
       "      <td>1</td>\n",
       "      <td>2019-08-06 16:45:32.090</td>\n",
       "    </tr>\n",
       "    <tr>\n",
       "      <th>2</th>\n",
       "      <td>1565109933092</td>\n",
       "      <td>0.145584</td>\n",
       "      <td>-1.007843</td>\n",
       "      <td>-0.036819</td>\n",
       "      <td>20609</td>\n",
       "      <td>2019-08-06T16:45:33.092</td>\n",
       "      <td>1</td>\n",
       "      <td>2019-08-06 16:45:33.092</td>\n",
       "    </tr>\n",
       "    <tr>\n",
       "      <th>3</th>\n",
       "      <td>1565109934094</td>\n",
       "      <td>-0.099380</td>\n",
       "      <td>-1.209686</td>\n",
       "      <td>0.304489</td>\n",
       "      <td>20619</td>\n",
       "      <td>2019-08-06T16:45:34.094</td>\n",
       "      <td>1</td>\n",
       "      <td>2019-08-06 16:45:34.094</td>\n",
       "    </tr>\n",
       "    <tr>\n",
       "      <th>4</th>\n",
       "      <td>1565109935097</td>\n",
       "      <td>0.082794</td>\n",
       "      <td>-1.001434</td>\n",
       "      <td>-0.025375</td>\n",
       "      <td>20629</td>\n",
       "      <td>2019-08-06T16:45:35.097</td>\n",
       "      <td>1</td>\n",
       "      <td>2019-08-06 16:45:35.097</td>\n",
       "    </tr>\n",
       "  </tbody>\n",
       "</table>\n",
       "</div>"
      ],
      "text/plain": [
       "       timestamp         x         y         z    Key  \\\n",
       "0  1565109931087 -0.053802 -0.987701  0.068985  20589   \n",
       "1  1565109932090  0.013718 -0.852371 -0.000870  20599   \n",
       "2  1565109933092  0.145584 -1.007843 -0.036819  20609   \n",
       "3  1565109934094 -0.099380 -1.209686  0.304489  20619   \n",
       "4  1565109935097  0.082794 -1.001434 -0.025375  20629   \n",
       "\n",
       "                 date_time  label               Date_time  \n",
       "0  2019-08-06T16:45:31.087      1 2019-08-06 16:45:31.087  \n",
       "1  2019-08-06T16:45:32.090      1 2019-08-06 16:45:32.090  \n",
       "2  2019-08-06T16:45:33.092      1 2019-08-06 16:45:33.092  \n",
       "3  2019-08-06T16:45:34.094      1 2019-08-06 16:45:34.094  \n",
       "4  2019-08-06T16:45:35.097      1 2019-08-06 16:45:35.097  "
      ]
     },
     "execution_count": 27,
     "metadata": {},
     "output_type": "execute_result"
    }
   ],
   "source": [
    "training_data_label.head()"
   ]
  },
  {
   "cell_type": "code",
   "execution_count": 29,
   "metadata": {
    "scrolled": true
   },
   "outputs": [
    {
     "name": "stdout",
     "output_type": "stream",
     "text": [
      "(375, 3) (375,)\n"
     ]
    }
   ],
   "source": [
    "print(X.shape , y.shape)"
   ]
  },
  {
   "cell_type": "code",
   "execution_count": 30,
   "metadata": {},
   "outputs": [
    {
     "name": "stdout",
     "output_type": "stream",
     "text": [
      "(300, 3) (75, 3)\n"
     ]
    }
   ],
   "source": [
    "print(X_train.shape , X_test.shape)"
   ]
  },
  {
   "cell_type": "code",
   "execution_count": 39,
   "metadata": {},
   "outputs": [
    {
     "name": "stdout",
     "output_type": "stream",
     "text": [
      "Classifier RF Accuracy: 0.5733333333333334\n",
      "Classifier KNN Accuracy: 0.6\n",
      "Classifier SVC Accuracy: 0.6\n",
      "Classifier NB Accuracy: 0.6266666666666667\n"
     ]
    }
   ],
   "source": [
    "# label_classify function contains the classifier names and its object instantiation list\n",
    "\n",
    "#def label_classify(names,classifiers): \n",
    "\n",
    "names=[\"RF\",\"KNN\",\"SVC\",\"NB\"]\n",
    "classifiers=[RandomForestClassifier(n_estimators=81),\n",
    "             KNeighborsClassifier(n_neighbors=81),\n",
    "             SVC(),\n",
    "             GaussianNB()]\n",
    "#    return names,classifiers\n",
    "\n",
    "X_train, X_test, y_train, y_test = train_test_split(X, target,test_size = 0.20)\n",
    "# Fitting the model with covariates and label\n",
    "\n",
    "for [name,clf] in zip(names,classifiers):\n",
    "    clf.fit(X_train,y_train)\n",
    "    acc=clf.score(X_test,y_test)\n",
    "    print(\"Classifier\",name,\"Accuracy:\",acc)"
   ]
  },
  {
   "cell_type": "code",
   "execution_count": null,
   "metadata": {},
   "outputs": [],
   "source": []
  },
  {
   "cell_type": "markdown",
   "metadata": {},
   "source": [
    "# Using Testing Dataset"
   ]
  },
  {
   "cell_type": "markdown",
   "metadata": {},
   "source": [
    "# Training the model"
   ]
  },
  {
   "cell_type": "code",
   "execution_count": 24,
   "metadata": {},
   "outputs": [],
   "source": [
    "\n",
    "# Load the data into the data frame.\n",
    "\n",
    "test_data=pd.read_csv(r'test_time_series.csv')\n",
    "test_label=pd.read_csv(r'test_labels.csv')"
   ]
  },
  {
   "cell_type": "code",
   "execution_count": 25,
   "metadata": {},
   "outputs": [
    {
     "data": {
      "text/html": [
       "<div>\n",
       "<style scoped>\n",
       "    .dataframe tbody tr th:only-of-type {\n",
       "        vertical-align: middle;\n",
       "    }\n",
       "\n",
       "    .dataframe tbody tr th {\n",
       "        vertical-align: top;\n",
       "    }\n",
       "\n",
       "    .dataframe thead th {\n",
       "        text-align: right;\n",
       "    }\n",
       "</style>\n",
       "<table border=\"1\" class=\"dataframe\">\n",
       "  <thead>\n",
       "    <tr style=\"text-align: right;\">\n",
       "      <th></th>\n",
       "      <th>Unnamed: 0</th>\n",
       "      <th>timestamp</th>\n",
       "      <th>UTC time</th>\n",
       "      <th>label</th>\n",
       "    </tr>\n",
       "  </thead>\n",
       "  <tbody>\n",
       "    <tr>\n",
       "      <th>0</th>\n",
       "      <td>24339</td>\n",
       "      <td>1565110307041</td>\n",
       "      <td>2019-08-06T16:51:47.041</td>\n",
       "      <td>NaN</td>\n",
       "    </tr>\n",
       "    <tr>\n",
       "      <th>1</th>\n",
       "      <td>24349</td>\n",
       "      <td>1565110308043</td>\n",
       "      <td>2019-08-06T16:51:48.043</td>\n",
       "      <td>NaN</td>\n",
       "    </tr>\n",
       "    <tr>\n",
       "      <th>2</th>\n",
       "      <td>24359</td>\n",
       "      <td>1565110309046</td>\n",
       "      <td>2019-08-06T16:51:49.046</td>\n",
       "      <td>NaN</td>\n",
       "    </tr>\n",
       "    <tr>\n",
       "      <th>3</th>\n",
       "      <td>24369</td>\n",
       "      <td>1565110310048</td>\n",
       "      <td>2019-08-06T16:51:50.048</td>\n",
       "      <td>NaN</td>\n",
       "    </tr>\n",
       "    <tr>\n",
       "      <th>4</th>\n",
       "      <td>24379</td>\n",
       "      <td>1565110311050</td>\n",
       "      <td>2019-08-06T16:51:51.050</td>\n",
       "      <td>NaN</td>\n",
       "    </tr>\n",
       "  </tbody>\n",
       "</table>\n",
       "</div>"
      ],
      "text/plain": [
       "   Unnamed: 0      timestamp                 UTC time  label\n",
       "0       24339  1565110307041  2019-08-06T16:51:47.041    NaN\n",
       "1       24349  1565110308043  2019-08-06T16:51:48.043    NaN\n",
       "2       24359  1565110309046  2019-08-06T16:51:49.046    NaN\n",
       "3       24369  1565110310048  2019-08-06T16:51:50.048    NaN\n",
       "4       24379  1565110311050  2019-08-06T16:51:51.050    NaN"
      ]
     },
     "execution_count": 25,
     "metadata": {},
     "output_type": "execute_result"
    }
   ],
   "source": [
    "# top 5 rows\n",
    "test_label.head()"
   ]
  },
  {
   "cell_type": "code",
   "execution_count": 26,
   "metadata": {},
   "outputs": [
    {
     "data": {
      "text/html": [
       "<div>\n",
       "<style scoped>\n",
       "    .dataframe tbody tr th:only-of-type {\n",
       "        vertical-align: middle;\n",
       "    }\n",
       "\n",
       "    .dataframe tbody tr th {\n",
       "        vertical-align: top;\n",
       "    }\n",
       "\n",
       "    .dataframe thead th {\n",
       "        text-align: right;\n",
       "    }\n",
       "</style>\n",
       "<table border=\"1\" class=\"dataframe\">\n",
       "  <thead>\n",
       "    <tr style=\"text-align: right;\">\n",
       "      <th></th>\n",
       "      <th>Unnamed: 0</th>\n",
       "      <th>timestamp</th>\n",
       "      <th>UTC time</th>\n",
       "      <th>label</th>\n",
       "    </tr>\n",
       "  </thead>\n",
       "  <tbody>\n",
       "    <tr>\n",
       "      <th>120</th>\n",
       "      <td>25539</td>\n",
       "      <td>1565110427366</td>\n",
       "      <td>2019-08-06T16:53:47.366</td>\n",
       "      <td>NaN</td>\n",
       "    </tr>\n",
       "    <tr>\n",
       "      <th>121</th>\n",
       "      <td>25549</td>\n",
       "      <td>1565110428369</td>\n",
       "      <td>2019-08-06T16:53:48.369</td>\n",
       "      <td>NaN</td>\n",
       "    </tr>\n",
       "    <tr>\n",
       "      <th>122</th>\n",
       "      <td>25559</td>\n",
       "      <td>1565110429371</td>\n",
       "      <td>2019-08-06T16:53:49.371</td>\n",
       "      <td>NaN</td>\n",
       "    </tr>\n",
       "    <tr>\n",
       "      <th>123</th>\n",
       "      <td>25569</td>\n",
       "      <td>1565110430373</td>\n",
       "      <td>2019-08-06T16:53:50.373</td>\n",
       "      <td>NaN</td>\n",
       "    </tr>\n",
       "    <tr>\n",
       "      <th>124</th>\n",
       "      <td>25579</td>\n",
       "      <td>1565110431376</td>\n",
       "      <td>2019-08-06T16:53:51.376</td>\n",
       "      <td>NaN</td>\n",
       "    </tr>\n",
       "  </tbody>\n",
       "</table>\n",
       "</div>"
      ],
      "text/plain": [
       "     Unnamed: 0      timestamp                 UTC time  label\n",
       "120       25539  1565110427366  2019-08-06T16:53:47.366    NaN\n",
       "121       25549  1565110428369  2019-08-06T16:53:48.369    NaN\n",
       "122       25559  1565110429371  2019-08-06T16:53:49.371    NaN\n",
       "123       25569  1565110430373  2019-08-06T16:53:50.373    NaN\n",
       "124       25579  1565110431376  2019-08-06T16:53:51.376    NaN"
      ]
     },
     "execution_count": 26,
     "metadata": {},
     "output_type": "execute_result"
    }
   ],
   "source": [
    "# last 5 rows\n",
    "test_label.tail()"
   ]
  },
  {
   "cell_type": "code",
   "execution_count": 27,
   "metadata": {},
   "outputs": [
    {
     "data": {
      "text/html": [
       "<div>\n",
       "<style scoped>\n",
       "    .dataframe tbody tr th:only-of-type {\n",
       "        vertical-align: middle;\n",
       "    }\n",
       "\n",
       "    .dataframe tbody tr th {\n",
       "        vertical-align: top;\n",
       "    }\n",
       "\n",
       "    .dataframe thead th {\n",
       "        text-align: right;\n",
       "    }\n",
       "</style>\n",
       "<table border=\"1\" class=\"dataframe\">\n",
       "  <thead>\n",
       "    <tr style=\"text-align: right;\">\n",
       "      <th></th>\n",
       "      <th>Unnamed: 0</th>\n",
       "      <th>timestamp</th>\n",
       "      <th>UTC time</th>\n",
       "      <th>accuracy</th>\n",
       "      <th>x</th>\n",
       "      <th>y</th>\n",
       "      <th>z</th>\n",
       "    </tr>\n",
       "  </thead>\n",
       "  <tbody>\n",
       "    <tr>\n",
       "      <th>0</th>\n",
       "      <td>24330</td>\n",
       "      <td>1565110306139</td>\n",
       "      <td>2019-08-06T16:51:46.139</td>\n",
       "      <td>unknown</td>\n",
       "      <td>0.034286</td>\n",
       "      <td>-1.504456</td>\n",
       "      <td>0.157623</td>\n",
       "    </tr>\n",
       "    <tr>\n",
       "      <th>1</th>\n",
       "      <td>24331</td>\n",
       "      <td>1565110306239</td>\n",
       "      <td>2019-08-06T16:51:46.239</td>\n",
       "      <td>unknown</td>\n",
       "      <td>0.409164</td>\n",
       "      <td>-1.038544</td>\n",
       "      <td>0.030975</td>\n",
       "    </tr>\n",
       "    <tr>\n",
       "      <th>2</th>\n",
       "      <td>24332</td>\n",
       "      <td>1565110306340</td>\n",
       "      <td>2019-08-06T16:51:46.340</td>\n",
       "      <td>unknown</td>\n",
       "      <td>-0.234390</td>\n",
       "      <td>-0.984558</td>\n",
       "      <td>0.124771</td>\n",
       "    </tr>\n",
       "    <tr>\n",
       "      <th>3</th>\n",
       "      <td>24333</td>\n",
       "      <td>1565110306440</td>\n",
       "      <td>2019-08-06T16:51:46.440</td>\n",
       "      <td>unknown</td>\n",
       "      <td>0.251114</td>\n",
       "      <td>-0.787003</td>\n",
       "      <td>0.054810</td>\n",
       "    </tr>\n",
       "    <tr>\n",
       "      <th>4</th>\n",
       "      <td>24334</td>\n",
       "      <td>1565110306540</td>\n",
       "      <td>2019-08-06T16:51:46.540</td>\n",
       "      <td>unknown</td>\n",
       "      <td>0.109924</td>\n",
       "      <td>-0.169510</td>\n",
       "      <td>0.235550</td>\n",
       "    </tr>\n",
       "  </tbody>\n",
       "</table>\n",
       "</div>"
      ],
      "text/plain": [
       "   Unnamed: 0      timestamp                 UTC time accuracy         x  \\\n",
       "0       24330  1565110306139  2019-08-06T16:51:46.139  unknown  0.034286   \n",
       "1       24331  1565110306239  2019-08-06T16:51:46.239  unknown  0.409164   \n",
       "2       24332  1565110306340  2019-08-06T16:51:46.340  unknown -0.234390   \n",
       "3       24333  1565110306440  2019-08-06T16:51:46.440  unknown  0.251114   \n",
       "4       24334  1565110306540  2019-08-06T16:51:46.540  unknown  0.109924   \n",
       "\n",
       "          y         z  \n",
       "0 -1.504456  0.157623  \n",
       "1 -1.038544  0.030975  \n",
       "2 -0.984558  0.124771  \n",
       "3 -0.787003  0.054810  \n",
       "4 -0.169510  0.235550  "
      ]
     },
     "execution_count": 27,
     "metadata": {},
     "output_type": "execute_result"
    }
   ],
   "source": [
    "test_data.head()"
   ]
  },
  {
   "cell_type": "code",
   "execution_count": 28,
   "metadata": {},
   "outputs": [
    {
     "data": {
      "text/html": [
       "<div>\n",
       "<style scoped>\n",
       "    .dataframe tbody tr th:only-of-type {\n",
       "        vertical-align: middle;\n",
       "    }\n",
       "\n",
       "    .dataframe tbody tr th {\n",
       "        vertical-align: top;\n",
       "    }\n",
       "\n",
       "    .dataframe thead th {\n",
       "        text-align: right;\n",
       "    }\n",
       "</style>\n",
       "<table border=\"1\" class=\"dataframe\">\n",
       "  <thead>\n",
       "    <tr style=\"text-align: right;\">\n",
       "      <th></th>\n",
       "      <th>Unnamed: 0</th>\n",
       "      <th>timestamp</th>\n",
       "      <th>UTC time</th>\n",
       "      <th>accuracy</th>\n",
       "      <th>x</th>\n",
       "      <th>y</th>\n",
       "      <th>z</th>\n",
       "    </tr>\n",
       "  </thead>\n",
       "  <tbody>\n",
       "    <tr>\n",
       "      <th>1245</th>\n",
       "      <td>25575</td>\n",
       "      <td>1565110430975</td>\n",
       "      <td>2019-08-06T16:53:50.975</td>\n",
       "      <td>unknown</td>\n",
       "      <td>0.036499</td>\n",
       "      <td>-0.724823</td>\n",
       "      <td>0.553802</td>\n",
       "    </tr>\n",
       "    <tr>\n",
       "      <th>1246</th>\n",
       "      <td>25576</td>\n",
       "      <td>1565110431075</td>\n",
       "      <td>2019-08-06T16:53:51.075</td>\n",
       "      <td>unknown</td>\n",
       "      <td>-0.159241</td>\n",
       "      <td>0.307022</td>\n",
       "      <td>0.142410</td>\n",
       "    </tr>\n",
       "    <tr>\n",
       "      <th>1247</th>\n",
       "      <td>25577</td>\n",
       "      <td>1565110431175</td>\n",
       "      <td>2019-08-06T16:53:51.175</td>\n",
       "      <td>unknown</td>\n",
       "      <td>-0.037964</td>\n",
       "      <td>-0.673706</td>\n",
       "      <td>1.065445</td>\n",
       "    </tr>\n",
       "    <tr>\n",
       "      <th>1248</th>\n",
       "      <td>25578</td>\n",
       "      <td>1565110431275</td>\n",
       "      <td>2019-08-06T16:53:51.275</td>\n",
       "      <td>unknown</td>\n",
       "      <td>0.255707</td>\n",
       "      <td>-1.485397</td>\n",
       "      <td>-0.013336</td>\n",
       "    </tr>\n",
       "    <tr>\n",
       "      <th>1249</th>\n",
       "      <td>25579</td>\n",
       "      <td>1565110431376</td>\n",
       "      <td>2019-08-06T16:53:51.376</td>\n",
       "      <td>unknown</td>\n",
       "      <td>-0.089462</td>\n",
       "      <td>-0.734573</td>\n",
       "      <td>-0.100876</td>\n",
       "    </tr>\n",
       "  </tbody>\n",
       "</table>\n",
       "</div>"
      ],
      "text/plain": [
       "      Unnamed: 0      timestamp                 UTC time accuracy         x  \\\n",
       "1245       25575  1565110430975  2019-08-06T16:53:50.975  unknown  0.036499   \n",
       "1246       25576  1565110431075  2019-08-06T16:53:51.075  unknown -0.159241   \n",
       "1247       25577  1565110431175  2019-08-06T16:53:51.175  unknown -0.037964   \n",
       "1248       25578  1565110431275  2019-08-06T16:53:51.275  unknown  0.255707   \n",
       "1249       25579  1565110431376  2019-08-06T16:53:51.376  unknown -0.089462   \n",
       "\n",
       "             y         z  \n",
       "1245 -0.724823  0.553802  \n",
       "1246  0.307022  0.142410  \n",
       "1247 -0.673706  1.065445  \n",
       "1248 -1.485397 -0.013336  \n",
       "1249 -0.734573 -0.100876  "
      ]
     },
     "execution_count": 28,
     "metadata": {},
     "output_type": "execute_result"
    }
   ],
   "source": [
    "test_data.tail()"
   ]
  },
  {
   "cell_type": "code",
   "execution_count": 29,
   "metadata": {},
   "outputs": [],
   "source": [
    "# join two datasets based on common index level column using timestamp\n",
    "\n",
    "test_data_label = pd.merge(test_data[['timestamp','x','y','z']],test_label,how='inner',on='timestamp')"
   ]
  },
  {
   "cell_type": "code",
   "execution_count": 30,
   "metadata": {},
   "outputs": [
    {
     "data": {
      "text/html": [
       "<div>\n",
       "<style scoped>\n",
       "    .dataframe tbody tr th:only-of-type {\n",
       "        vertical-align: middle;\n",
       "    }\n",
       "\n",
       "    .dataframe tbody tr th {\n",
       "        vertical-align: top;\n",
       "    }\n",
       "\n",
       "    .dataframe thead th {\n",
       "        text-align: right;\n",
       "    }\n",
       "</style>\n",
       "<table border=\"1\" class=\"dataframe\">\n",
       "  <thead>\n",
       "    <tr style=\"text-align: right;\">\n",
       "      <th></th>\n",
       "      <th>timestamp</th>\n",
       "      <th>x</th>\n",
       "      <th>y</th>\n",
       "      <th>z</th>\n",
       "      <th>Unnamed: 0</th>\n",
       "      <th>UTC time</th>\n",
       "      <th>label</th>\n",
       "    </tr>\n",
       "  </thead>\n",
       "  <tbody>\n",
       "    <tr>\n",
       "      <th>0</th>\n",
       "      <td>1565110307041</td>\n",
       "      <td>0.098282</td>\n",
       "      <td>-0.833771</td>\n",
       "      <td>0.118042</td>\n",
       "      <td>24339</td>\n",
       "      <td>2019-08-06T16:51:47.041</td>\n",
       "      <td>NaN</td>\n",
       "    </tr>\n",
       "    <tr>\n",
       "      <th>1</th>\n",
       "      <td>1565110308043</td>\n",
       "      <td>0.348465</td>\n",
       "      <td>-0.946701</td>\n",
       "      <td>-0.051041</td>\n",
       "      <td>24349</td>\n",
       "      <td>2019-08-06T16:51:48.043</td>\n",
       "      <td>NaN</td>\n",
       "    </tr>\n",
       "    <tr>\n",
       "      <th>2</th>\n",
       "      <td>1565110309046</td>\n",
       "      <td>0.377335</td>\n",
       "      <td>-0.849243</td>\n",
       "      <td>-0.026474</td>\n",
       "      <td>24359</td>\n",
       "      <td>2019-08-06T16:51:49.046</td>\n",
       "      <td>NaN</td>\n",
       "    </tr>\n",
       "    <tr>\n",
       "      <th>3</th>\n",
       "      <td>1565110310048</td>\n",
       "      <td>0.110077</td>\n",
       "      <td>-0.520325</td>\n",
       "      <td>0.312714</td>\n",
       "      <td>24369</td>\n",
       "      <td>2019-08-06T16:51:50.048</td>\n",
       "      <td>NaN</td>\n",
       "    </tr>\n",
       "    <tr>\n",
       "      <th>4</th>\n",
       "      <td>1565110311050</td>\n",
       "      <td>0.283478</td>\n",
       "      <td>-0.892548</td>\n",
       "      <td>-0.085876</td>\n",
       "      <td>24379</td>\n",
       "      <td>2019-08-06T16:51:51.050</td>\n",
       "      <td>NaN</td>\n",
       "    </tr>\n",
       "    <tr>\n",
       "      <th>...</th>\n",
       "      <td>...</td>\n",
       "      <td>...</td>\n",
       "      <td>...</td>\n",
       "      <td>...</td>\n",
       "      <td>...</td>\n",
       "      <td>...</td>\n",
       "      <td>...</td>\n",
       "    </tr>\n",
       "    <tr>\n",
       "      <th>120</th>\n",
       "      <td>1565110427366</td>\n",
       "      <td>-0.043915</td>\n",
       "      <td>-0.242416</td>\n",
       "      <td>0.068802</td>\n",
       "      <td>25539</td>\n",
       "      <td>2019-08-06T16:53:47.366</td>\n",
       "      <td>NaN</td>\n",
       "    </tr>\n",
       "    <tr>\n",
       "      <th>121</th>\n",
       "      <td>1565110428369</td>\n",
       "      <td>0.118271</td>\n",
       "      <td>-1.212097</td>\n",
       "      <td>0.357468</td>\n",
       "      <td>25549</td>\n",
       "      <td>2019-08-06T16:53:48.369</td>\n",
       "      <td>NaN</td>\n",
       "    </tr>\n",
       "    <tr>\n",
       "      <th>122</th>\n",
       "      <td>1565110429371</td>\n",
       "      <td>0.667404</td>\n",
       "      <td>-0.978851</td>\n",
       "      <td>0.171906</td>\n",
       "      <td>25559</td>\n",
       "      <td>2019-08-06T16:53:49.371</td>\n",
       "      <td>NaN</td>\n",
       "    </tr>\n",
       "    <tr>\n",
       "      <th>123</th>\n",
       "      <td>1565110430373</td>\n",
       "      <td>0.371384</td>\n",
       "      <td>-1.021927</td>\n",
       "      <td>-0.244446</td>\n",
       "      <td>25569</td>\n",
       "      <td>2019-08-06T16:53:50.373</td>\n",
       "      <td>NaN</td>\n",
       "    </tr>\n",
       "    <tr>\n",
       "      <th>124</th>\n",
       "      <td>1565110431376</td>\n",
       "      <td>-0.089462</td>\n",
       "      <td>-0.734573</td>\n",
       "      <td>-0.100876</td>\n",
       "      <td>25579</td>\n",
       "      <td>2019-08-06T16:53:51.376</td>\n",
       "      <td>NaN</td>\n",
       "    </tr>\n",
       "  </tbody>\n",
       "</table>\n",
       "<p>125 rows × 7 columns</p>\n",
       "</div>"
      ],
      "text/plain": [
       "         timestamp         x         y         z  Unnamed: 0  \\\n",
       "0    1565110307041  0.098282 -0.833771  0.118042       24339   \n",
       "1    1565110308043  0.348465 -0.946701 -0.051041       24349   \n",
       "2    1565110309046  0.377335 -0.849243 -0.026474       24359   \n",
       "3    1565110310048  0.110077 -0.520325  0.312714       24369   \n",
       "4    1565110311050  0.283478 -0.892548 -0.085876       24379   \n",
       "..             ...       ...       ...       ...         ...   \n",
       "120  1565110427366 -0.043915 -0.242416  0.068802       25539   \n",
       "121  1565110428369  0.118271 -1.212097  0.357468       25549   \n",
       "122  1565110429371  0.667404 -0.978851  0.171906       25559   \n",
       "123  1565110430373  0.371384 -1.021927 -0.244446       25569   \n",
       "124  1565110431376 -0.089462 -0.734573 -0.100876       25579   \n",
       "\n",
       "                    UTC time  label  \n",
       "0    2019-08-06T16:51:47.041    NaN  \n",
       "1    2019-08-06T16:51:48.043    NaN  \n",
       "2    2019-08-06T16:51:49.046    NaN  \n",
       "3    2019-08-06T16:51:50.048    NaN  \n",
       "4    2019-08-06T16:51:51.050    NaN  \n",
       "..                       ...    ...  \n",
       "120  2019-08-06T16:53:47.366    NaN  \n",
       "121  2019-08-06T16:53:48.369    NaN  \n",
       "122  2019-08-06T16:53:49.371    NaN  \n",
       "123  2019-08-06T16:53:50.373    NaN  \n",
       "124  2019-08-06T16:53:51.376    NaN  \n",
       "\n",
       "[125 rows x 7 columns]"
      ]
     },
     "execution_count": 30,
     "metadata": {},
     "output_type": "execute_result"
    }
   ],
   "source": [
    "test_data_label"
   ]
  },
  {
   "cell_type": "code",
   "execution_count": 31,
   "metadata": {
    "scrolled": false
   },
   "outputs": [
    {
     "name": "stdout",
     "output_type": "stream",
     "text": [
      "Index(['timestamp', 'x', 'y', 'z', 'Unnamed: 0', 'UTC time', 'label'], dtype='object')\n"
     ]
    }
   ],
   "source": [
    "# list of columns  \n",
    "print(test_data_label.columns)"
   ]
  },
  {
   "cell_type": "code",
   "execution_count": 32,
   "metadata": {},
   "outputs": [],
   "source": [
    "# Rename column name \n",
    "\n",
    "test_data_label.columns=['timestamp', 'x', 'y', 'z', 'Key', 'date_time', 'label']"
   ]
  },
  {
   "cell_type": "code",
   "execution_count": 33,
   "metadata": {},
   "outputs": [
    {
     "data": {
      "text/html": [
       "<div>\n",
       "<style scoped>\n",
       "    .dataframe tbody tr th:only-of-type {\n",
       "        vertical-align: middle;\n",
       "    }\n",
       "\n",
       "    .dataframe tbody tr th {\n",
       "        vertical-align: top;\n",
       "    }\n",
       "\n",
       "    .dataframe thead th {\n",
       "        text-align: right;\n",
       "    }\n",
       "</style>\n",
       "<table border=\"1\" class=\"dataframe\">\n",
       "  <thead>\n",
       "    <tr style=\"text-align: right;\">\n",
       "      <th></th>\n",
       "      <th>timestamp</th>\n",
       "      <th>x</th>\n",
       "      <th>y</th>\n",
       "      <th>z</th>\n",
       "      <th>Key</th>\n",
       "      <th>date_time</th>\n",
       "      <th>label</th>\n",
       "    </tr>\n",
       "  </thead>\n",
       "  <tbody>\n",
       "    <tr>\n",
       "      <th>0</th>\n",
       "      <td>1565110307041</td>\n",
       "      <td>0.098282</td>\n",
       "      <td>-0.833771</td>\n",
       "      <td>0.118042</td>\n",
       "      <td>24339</td>\n",
       "      <td>2019-08-06T16:51:47.041</td>\n",
       "      <td>NaN</td>\n",
       "    </tr>\n",
       "    <tr>\n",
       "      <th>1</th>\n",
       "      <td>1565110308043</td>\n",
       "      <td>0.348465</td>\n",
       "      <td>-0.946701</td>\n",
       "      <td>-0.051041</td>\n",
       "      <td>24349</td>\n",
       "      <td>2019-08-06T16:51:48.043</td>\n",
       "      <td>NaN</td>\n",
       "    </tr>\n",
       "    <tr>\n",
       "      <th>2</th>\n",
       "      <td>1565110309046</td>\n",
       "      <td>0.377335</td>\n",
       "      <td>-0.849243</td>\n",
       "      <td>-0.026474</td>\n",
       "      <td>24359</td>\n",
       "      <td>2019-08-06T16:51:49.046</td>\n",
       "      <td>NaN</td>\n",
       "    </tr>\n",
       "    <tr>\n",
       "      <th>3</th>\n",
       "      <td>1565110310048</td>\n",
       "      <td>0.110077</td>\n",
       "      <td>-0.520325</td>\n",
       "      <td>0.312714</td>\n",
       "      <td>24369</td>\n",
       "      <td>2019-08-06T16:51:50.048</td>\n",
       "      <td>NaN</td>\n",
       "    </tr>\n",
       "    <tr>\n",
       "      <th>4</th>\n",
       "      <td>1565110311050</td>\n",
       "      <td>0.283478</td>\n",
       "      <td>-0.892548</td>\n",
       "      <td>-0.085876</td>\n",
       "      <td>24379</td>\n",
       "      <td>2019-08-06T16:51:51.050</td>\n",
       "      <td>NaN</td>\n",
       "    </tr>\n",
       "  </tbody>\n",
       "</table>\n",
       "</div>"
      ],
      "text/plain": [
       "       timestamp         x         y         z    Key  \\\n",
       "0  1565110307041  0.098282 -0.833771  0.118042  24339   \n",
       "1  1565110308043  0.348465 -0.946701 -0.051041  24349   \n",
       "2  1565110309046  0.377335 -0.849243 -0.026474  24359   \n",
       "3  1565110310048  0.110077 -0.520325  0.312714  24369   \n",
       "4  1565110311050  0.283478 -0.892548 -0.085876  24379   \n",
       "\n",
       "                 date_time  label  \n",
       "0  2019-08-06T16:51:47.041    NaN  \n",
       "1  2019-08-06T16:51:48.043    NaN  \n",
       "2  2019-08-06T16:51:49.046    NaN  \n",
       "3  2019-08-06T16:51:50.048    NaN  \n",
       "4  2019-08-06T16:51:51.050    NaN  "
      ]
     },
     "execution_count": 33,
     "metadata": {},
     "output_type": "execute_result"
    }
   ],
   "source": [
    "# top 5 rows of joined dataset\n",
    "test_data_label.head()"
   ]
  },
  {
   "cell_type": "code",
   "execution_count": 34,
   "metadata": {},
   "outputs": [
    {
     "data": {
      "text/html": [
       "<div>\n",
       "<style scoped>\n",
       "    .dataframe tbody tr th:only-of-type {\n",
       "        vertical-align: middle;\n",
       "    }\n",
       "\n",
       "    .dataframe tbody tr th {\n",
       "        vertical-align: top;\n",
       "    }\n",
       "\n",
       "    .dataframe thead th {\n",
       "        text-align: right;\n",
       "    }\n",
       "</style>\n",
       "<table border=\"1\" class=\"dataframe\">\n",
       "  <thead>\n",
       "    <tr style=\"text-align: right;\">\n",
       "      <th></th>\n",
       "      <th>timestamp</th>\n",
       "      <th>x</th>\n",
       "      <th>y</th>\n",
       "      <th>z</th>\n",
       "      <th>Key</th>\n",
       "      <th>date_time</th>\n",
       "      <th>label</th>\n",
       "    </tr>\n",
       "  </thead>\n",
       "  <tbody>\n",
       "    <tr>\n",
       "      <th>120</th>\n",
       "      <td>1565110427366</td>\n",
       "      <td>-0.043915</td>\n",
       "      <td>-0.242416</td>\n",
       "      <td>0.068802</td>\n",
       "      <td>25539</td>\n",
       "      <td>2019-08-06T16:53:47.366</td>\n",
       "      <td>NaN</td>\n",
       "    </tr>\n",
       "    <tr>\n",
       "      <th>121</th>\n",
       "      <td>1565110428369</td>\n",
       "      <td>0.118271</td>\n",
       "      <td>-1.212097</td>\n",
       "      <td>0.357468</td>\n",
       "      <td>25549</td>\n",
       "      <td>2019-08-06T16:53:48.369</td>\n",
       "      <td>NaN</td>\n",
       "    </tr>\n",
       "    <tr>\n",
       "      <th>122</th>\n",
       "      <td>1565110429371</td>\n",
       "      <td>0.667404</td>\n",
       "      <td>-0.978851</td>\n",
       "      <td>0.171906</td>\n",
       "      <td>25559</td>\n",
       "      <td>2019-08-06T16:53:49.371</td>\n",
       "      <td>NaN</td>\n",
       "    </tr>\n",
       "    <tr>\n",
       "      <th>123</th>\n",
       "      <td>1565110430373</td>\n",
       "      <td>0.371384</td>\n",
       "      <td>-1.021927</td>\n",
       "      <td>-0.244446</td>\n",
       "      <td>25569</td>\n",
       "      <td>2019-08-06T16:53:50.373</td>\n",
       "      <td>NaN</td>\n",
       "    </tr>\n",
       "    <tr>\n",
       "      <th>124</th>\n",
       "      <td>1565110431376</td>\n",
       "      <td>-0.089462</td>\n",
       "      <td>-0.734573</td>\n",
       "      <td>-0.100876</td>\n",
       "      <td>25579</td>\n",
       "      <td>2019-08-06T16:53:51.376</td>\n",
       "      <td>NaN</td>\n",
       "    </tr>\n",
       "  </tbody>\n",
       "</table>\n",
       "</div>"
      ],
      "text/plain": [
       "         timestamp         x         y         z    Key  \\\n",
       "120  1565110427366 -0.043915 -0.242416  0.068802  25539   \n",
       "121  1565110428369  0.118271 -1.212097  0.357468  25549   \n",
       "122  1565110429371  0.667404 -0.978851  0.171906  25559   \n",
       "123  1565110430373  0.371384 -1.021927 -0.244446  25569   \n",
       "124  1565110431376 -0.089462 -0.734573 -0.100876  25579   \n",
       "\n",
       "                   date_time  label  \n",
       "120  2019-08-06T16:53:47.366    NaN  \n",
       "121  2019-08-06T16:53:48.369    NaN  \n",
       "122  2019-08-06T16:53:49.371    NaN  \n",
       "123  2019-08-06T16:53:50.373    NaN  \n",
       "124  2019-08-06T16:53:51.376    NaN  "
      ]
     },
     "execution_count": 34,
     "metadata": {},
     "output_type": "execute_result"
    }
   ],
   "source": [
    "# last 5 rows of joined dataset\n",
    "test_data_label.tail()"
   ]
  },
  {
   "cell_type": "code",
   "execution_count": 35,
   "metadata": {},
   "outputs": [
    {
     "name": "stdout",
     "output_type": "stream",
     "text": [
      "<class 'pandas.core.frame.DataFrame'>\n",
      "Int64Index: 125 entries, 0 to 124\n",
      "Data columns (total 7 columns):\n",
      " #   Column     Non-Null Count  Dtype  \n",
      "---  ------     --------------  -----  \n",
      " 0   timestamp  125 non-null    int64  \n",
      " 1   x          125 non-null    float64\n",
      " 2   y          125 non-null    float64\n",
      " 3   z          125 non-null    float64\n",
      " 4   Key        125 non-null    int64  \n",
      " 5   date_time  125 non-null    object \n",
      " 6   label      0 non-null      float64\n",
      "dtypes: float64(4), int64(2), object(1)\n",
      "memory usage: 7.8+ KB\n"
     ]
    }
   ],
   "source": [
    "# Check the types of data\n",
    "\n",
    "test_data_label.info()"
   ]
  },
  {
   "cell_type": "code",
   "execution_count": 36,
   "metadata": {},
   "outputs": [
    {
     "data": {
      "text/plain": [
       "(125, 7)"
      ]
     },
     "execution_count": 36,
     "metadata": {},
     "output_type": "execute_result"
    }
   ],
   "source": [
    "# no.of rows and columns in  dataset\n",
    "test_data_label.shape"
   ]
  },
  {
   "cell_type": "code",
   "execution_count": 37,
   "metadata": {},
   "outputs": [
    {
     "name": "stdout",
     "output_type": "stream",
     "text": [
      "number of duplicate rows:  (0, 7)\n"
     ]
    }
   ],
   "source": [
    "# Rows containing duplicate data\n",
    "\n",
    "dupli_rows_df = test_data_label[test_data_label.duplicated()]\n",
    "print(\"number of duplicate rows: \", dupli_rows_df.shape)"
   ]
  },
  {
   "cell_type": "code",
   "execution_count": 40,
   "metadata": {},
   "outputs": [],
   "source": [
    "# test_data_label = test_data_label.dropna(subset = ['label'])"
   ]
  },
  {
   "cell_type": "code",
   "execution_count": 38,
   "metadata": {},
   "outputs": [],
   "source": [
    "test_classification_target = 'label'\n",
    "test_all_covariates = ['x','y','z']"
   ]
  },
  {
   "cell_type": "code",
   "execution_count": null,
   "metadata": {},
   "outputs": [],
   "source": []
  }
 ],
 "metadata": {
  "kernelspec": {
   "display_name": "Python 3 (ipykernel)",
   "language": "python",
   "name": "python3"
  },
  "language_info": {
   "codemirror_mode": {
    "name": "ipython",
    "version": 3
   },
   "file_extension": ".py",
   "mimetype": "text/x-python",
   "name": "python",
   "nbconvert_exporter": "python",
   "pygments_lexer": "ipython3",
   "version": "3.9.7"
  }
 },
 "nbformat": 4,
 "nbformat_minor": 4
}
