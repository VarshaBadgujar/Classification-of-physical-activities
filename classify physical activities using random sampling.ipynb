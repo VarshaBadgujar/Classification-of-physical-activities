{
 "cells": [
  {
   "cell_type": "code",
   "execution_count": 1,
   "metadata": {},
   "outputs": [],
   "source": [
    "import numpy as np\n",
    "import pandas as pd\n",
    "\n",
    "import matplotlib.pyplot as plt\n",
    "import matplotlib.cm as cm\n",
    "%matplotlib inline\n",
    "\n",
    "from sklearn.svm import SVC\n",
    "from sklearn.neighbors import KNeighborsClassifier\n",
    "from sklearn.ensemble import RandomForestClassifier\n",
    "\n",
    "from sklearn.metrics import accuracy_score"
   ]
  },
  {
   "cell_type": "code",
   "execution_count": 2,
   "metadata": {},
   "outputs": [
    {
     "name": "stdout",
     "output_type": "stream",
     "text": [
      "Index(['x', 'y', 'z', 'label'], dtype='object')\n"
     ]
    },
    {
     "data": {
      "text/html": [
       "<div>\n",
       "<style scoped>\n",
       "    .dataframe tbody tr th:only-of-type {\n",
       "        vertical-align: middle;\n",
       "    }\n",
       "\n",
       "    .dataframe tbody tr th {\n",
       "        vertical-align: top;\n",
       "    }\n",
       "\n",
       "    .dataframe thead th {\n",
       "        text-align: right;\n",
       "    }\n",
       "</style>\n",
       "<table border=\"1\" class=\"dataframe\">\n",
       "  <thead>\n",
       "    <tr style=\"text-align: right;\">\n",
       "      <th></th>\n",
       "      <th>x</th>\n",
       "      <th>y</th>\n",
       "      <th>z</th>\n",
       "      <th>label</th>\n",
       "    </tr>\n",
       "  </thead>\n",
       "  <tbody>\n",
       "    <tr>\n",
       "      <th>0</th>\n",
       "      <td>-0.053802</td>\n",
       "      <td>-0.987701</td>\n",
       "      <td>0.068985</td>\n",
       "      <td>1</td>\n",
       "    </tr>\n",
       "    <tr>\n",
       "      <th>1</th>\n",
       "      <td>0.013718</td>\n",
       "      <td>-0.852371</td>\n",
       "      <td>-0.000870</td>\n",
       "      <td>1</td>\n",
       "    </tr>\n",
       "  </tbody>\n",
       "</table>\n",
       "</div>"
      ],
      "text/plain": [
       "          x         y         z  label\n",
       "0 -0.053802 -0.987701  0.068985      1\n",
       "1  0.013718 -0.852371 -0.000870      1"
      ]
     },
     "execution_count": 2,
     "metadata": {},
     "output_type": "execute_result"
    }
   ],
   "source": [
    "training_data = pd.read_csv('train_labels.csv')\n",
    "\n",
    "train_details = pd.read_csv('train_time_series.csv')\n",
    "\n",
    "training_data_joined = pd.merge(train_details[['key','x','y','z']],training_data,how='inner',on='key')\n",
    "training_data_joined = training_data_joined[['x','y','z','label']]\n",
    "print(training_data_joined.columns)\n",
    "\n",
    "training_data_joined.head(2)"
   ]
  },
  {
   "cell_type": "code",
   "execution_count": 3,
   "metadata": {},
   "outputs": [
    {
     "data": {
      "text/plain": [
       "(213, 88, 47, 27)"
      ]
     },
     "execution_count": 3,
     "metadata": {},
     "output_type": "execute_result"
    }
   ],
   "source": [
    "count_class_2, count_class_3,count_class_4,count_class_1 = training_data_joined.label.value_counts()\n",
    "count_class_2, count_class_3,count_class_4,count_class_1"
   ]
  },
  {
   "cell_type": "code",
   "execution_count": 4,
   "metadata": {},
   "outputs": [
    {
     "name": "stdout",
     "output_type": "stream",
     "text": [
      "Random over-sampling:\n",
      "4    213\n",
      "3    213\n",
      "2    213\n",
      "1    213\n",
      "Name: label, dtype: int64\n"
     ]
    }
   ],
   "source": [
    "# Divide by class\n",
    "df_class_1 = training_data_joined[training_data_joined['label'] == 1]\n",
    "df_class_2 = training_data_joined[training_data_joined['label'] == 2]\n",
    "df_class_3 = training_data_joined[training_data_joined['label'] == 3]\n",
    "df_class_4 = training_data_joined[training_data_joined['label'] == 4]\n",
    "\n",
    "df_class_1_over = df_class_1.sample(count_class_2, replace=True)\n",
    "df_class_3_over = df_class_3.sample(count_class_2, replace=True)\n",
    "df_class_4_over = df_class_4.sample(count_class_2, replace=True)\n",
    "df_test_over = pd.concat([df_class_2, df_class_1_over,df_class_3_over,df_class_4_over], axis=0)\n",
    "\n",
    "print('Random over-sampling:')\n",
    "print(df_test_over.label.value_counts())"
   ]
  },
  {
   "cell_type": "code",
   "execution_count": 5,
   "metadata": {},
   "outputs": [
    {
     "data": {
      "image/png": "[encoded data removed]",
      "text/plain": [
       "<Figure size 432x288 with 1 Axes>"
      ]
     },
     "metadata": {
      "needs_background": "light"
     },
     "output_type": "display_data"
    }
   ],
   "source": [
    "df_test_over.label.value_counts().plot(kind='bar', title='Count (label)');"
   ]
  },
  {
   "cell_type": "code",
   "execution_count": 567,
   "metadata": {},
   "outputs": [],
   "source": [
    "import xgboost\n",
    "from sklearn.model_selection import train_test_split\n",
    "\n",
    "ind = df_test_over[['x','y','z']].values\n",
    "dep = df_test_over['label'].values\n",
    "X_train, X_test, y_train, y_test = train_test_split(ind,dep,test_size = 0.2)"
   ]
  },
  {
   "cell_type": "code",
   "execution_count": 568,
   "metadata": {},
   "outputs": [
    {
     "name": "stdout",
     "output_type": "stream",
     "text": [
      "Accuracy: 0.8713450292397661\n"
     ]
    }
   ],
   "source": [
    "clf = xgboost.XGBClassifier()\n",
    "clf.fit(X_train, y_train)\n",
    "print('Accuracy:', clf.score(X_test, y_test))"
   ]
  },
  {
   "cell_type": "code",
   "execution_count": 569,
   "metadata": {},
   "outputs": [],
   "source": [
    "#saving test data\n",
    "test_data = pd.read_csv(r'C:\\Users\\toshiba\\Documents\\Python Scripts\\HarvardX_PH526xUsingPythonForResearch\\FinalProject\\test_labels.csv')\n",
    "test_details = pd.read_csv(r'C:\\Users\\toshiba\\Documents\\Python Scripts\\HarvardX_PH526xUsingPythonForResearch\\FinalProject\\test_time_series.csv')"
   ]
  },
  {
   "cell_type": "code",
   "execution_count": 570,
   "metadata": {},
   "outputs": [],
   "source": [
    "predictedlabels = clf.predict(test_details[['x','y','z']].values)\n",
    "#predictedlabels = pd.DataFrame(predictedlabels,columns=['labels'])\n",
    "\n",
    "test_details['label'] = predictedlabels"
   ]
  },
  {
   "cell_type": "code",
   "execution_count": 571,
   "metadata": {},
   "outputs": [],
   "source": [
    "test_data.set_index('timestamp', inplace=True)\n",
    "test_data.update(test_details.set_index('timestamp'))\n",
    "test_data.reset_index()  # to recover the initial structure\n",
    "test_data.to_csv(\"testdatawithlabels.csv\")"
   ]
  },
  {
   "cell_type": "code",
   "execution_count": null,
   "metadata": {},
   "outputs": [],
   "source": []
  },
  {
   "cell_type": "code",
   "execution_count": null,
   "metadata": {},
   "outputs": [],
   "source": []
  }
 ],
 "metadata": {
  "kernelspec": {
   "display_name": "Python 3 (ipykernel)",
   "language": "python",
   "name": "python3"
  },
  "language_info": {
   "codemirror_mode": {
    "name": "ipython",
    "version": 3
   },
   "file_extension": ".py",
   "mimetype": "text/x-python",
   "name": "python",
   "nbconvert_exporter": "python",
   "pygments_lexer": "ipython3",
   "version": "3.9.7"
  }
 },
 "nbformat": 4,
 "nbformat_minor": 4
}
